{
 "cells": [
  {
   "cell_type": "markdown",
   "metadata": {},
   "source": [
    "# Проверка написан ли текст ИИ"
   ]
  },
  {
   "cell_type": "code",
   "execution_count": null,
   "metadata": {},
   "outputs": [],
   "source": [
    "import 'dotenv';\n",
    "import { GigaChat } from 'gigachat';\n",
    "import * as dotenv from 'dotenv';\n",
    "import { Agent } from 'node:https';\n",
    "\n",
    "const httpsAgent = new Agent({\n",
    "  rejectUnauthorized: false,\n",
    "});\n",
    "\n",
    "dotenv.config();\n",
    "const client = new GigaChat({\n",
    "  timeout: 600,\n",
    "  model: 'GigaChat',\n",
    "  httpsAgent: httpsAgent,\n",
    "});"
   ]
  },
  {
   "cell_type": "code",
   "execution_count": 39,
   "metadata": {},
   "outputs": [
    {
     "data": {
      "text/plain": [
       "{\n",
       "  category: \u001b[32m\"mixed\"\u001b[39m,\n",
       "  characters: \u001b[33m533\u001b[39m,\n",
       "  tokens: \u001b[33m224\u001b[39m,\n",
       "  ai_intervals: [ [ \u001b[33m1\u001b[39m, \u001b[33m262\u001b[39m ], [ \u001b[33m415\u001b[39m, \u001b[33m533\u001b[39m ] ],\n",
       "  xHeaders: {\n",
       "    xRequestID: \u001b[32m\"1ba41150-e8a5-4128-a884-d6c38c8d500e\"\u001b[39m,\n",
       "    xSessionID: \u001b[32m\"3e5537d9-f80e-4810-8015-e5bc6bc1c164\"\u001b[39m,\n",
       "    xClientID: \u001b[90mundefined\u001b[39m\n",
       "  }\n",
       "}"
      ]
     },
     "execution_count": 39,
     "metadata": {},
     "output_type": "execute_result"
    }
   ],
   "source": [
    "const text = `Котики — это милые и пушистые домашние животные, которые относятся к семейству кошачьих. \n",
    "Они известны своим дружелюбным характером, игривостью и мягкой шерстью. \n",
    "Котики могут быть разных пород, каждая из которых имеет свои уникальные особенности. \n",
    "А этот текст писала точно не нейросеть, \n",
    "потому что это пишу я. У меня особо нечего сказать про котов,\n",
    "кроме того, что они мягкие и пушистые, мурчащие существа.\n",
    "Эти животные стали популярными благодаря своей способности поднимать настроение людям \n",
    "и создавать уютную атмосферу в доме.`\n",
    "const aiResult = await client.aiCheck(text, \"GigaCheckDetection\")\n",
    "aiResult"
   ]
  },
  {
   "cell_type": "code",
   "execution_count": 40,
   "metadata": {},
   "outputs": [],
   "source": [
    "function aiIntervalsToArgs(text, aiIntervals) {\n",
    "    if (!aiIntervals.length) return [text];\n",
    "    let output = \"\";\n",
    "    const colors = [];\n",
    "    if (aiIntervals[0][0] > 0) {\n",
    "        output += \"%c\" + text.substr(0, aiIntervals[0][0]);\n",
    "        colors.push(\"color: black\");\n",
    "    }\n",
    "    for (let i = 0; i < aiIntervals.length; i++) {\n",
    "        const interval = aiIntervals[i];\n",
    "        if (i > 0 && aiIntervals[i][0] - aiIntervals[i-1][1] > 1) {\n",
    "            output += \"%c\" + text.substr(aiIntervals[i-1][1], aiIntervals[i][0] - aiIntervals[i - 1][1]);\n",
    "            colors.push(\"color: black\");\n",
    "        }\n",
    "        output += \"%c\" + text.substr(aiIntervals[i][0], aiIntervals[i][1] - aiIntervals[i][0]);\n",
    "        colors.push(\"color: red\");\n",
    "    }\n",
    "    if (aiIntervals[aiIntervals.length - 1][1] < text.length) {\n",
    "         output += \"%c\" + text.substr(aiIntervals[aiIntervals.length - 1][1], text.length);\n",
    "         colors.push(\"color: black\");\n",
    "    }\n",
    "    return [output, ...colors]\n",
    "}"
   ]
  },
  {
   "cell_type": "code",
   "execution_count": 41,
   "metadata": {},
   "outputs": [
    {
     "name": "stdout",
     "output_type": "stream",
     "text": [
      "\u001b[30mК\u001b[31mотики — это милые и пушистые домашние животные, которые относятся к семейству кошачьих. \n",
      "Они известны своим дружелюбным характером, игривостью и мягкой шерстью. \n",
      "Котики могут быть разных пород, каждая из которых имеет свои уникальные особенности. \n",
      "А этот текст \u001b[30mписала точно не нейросеть, \n",
      "потому что это пишу я. У меня особо нечего сказать про котов,\n",
      "кроме того, что они мягкие и пушистые, мурчащие существа.\n",
      "Эти ж\u001b[31mивотные стали популярными благодаря своей способности поднимать настроение людям \n",
      "и создавать уютную атмосферу в доме.\u001b[0m\n"
     ]
    }
   ],
   "source": [
    "console.log(...aiIntervalsToArgs(text, aiResult.ai_intervals))"
   ]
  }
 ],
 "metadata": {
  "kernelspec": {
   "display_name": "Deno",
   "language": "typescript",
   "name": "deno"
  },
  "language_info": {
   "codemirror_mode": "typescript",
   "file_extension": ".ts",
   "mimetype": "text/x.typescript",
   "name": "typescript",
   "nbconvert_exporter": "script",
   "pygments_lexer": "typescript",
   "version": "5.7.3"
  }
 },
 "nbformat": 4,
 "nbformat_minor": 4
}
