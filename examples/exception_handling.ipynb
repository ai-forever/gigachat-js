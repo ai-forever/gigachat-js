{
 "cells": [
  {
   "cell_type": "markdown",
   "metadata": {},
   "source": [
    "# Обработка исключений\n",
    "Если во время работы происходит ошибка она выкидывается с типом `gigachat/exceptions/ResponseError`\n",
    "В нем храниться свойство `response` содержащий ответ с ошибкой"
   ]
  },
  {
   "cell_type": "code",
   "execution_count": null,
   "metadata": {},
   "outputs": [],
   "source": [
    "import GigaChat from 'gigachat';\n",
    "import * as dotenv from 'dotenv';\n",
    "import { Agent } from 'node:https';\n",
    "\n",
    "const httpsAgent = new Agent({\n",
    "    rejectUnauthorized: false,\n",
    "});\n",
    "\n",
    "dotenv.config();\n",
    "\n",
    "const client = new GigaChat({\n",
    "    timeout: 600,\n",
    "    model: 'GigaChat',\n",
    "    httpsAgent: httpsAgent,\n",
    "});"
   ]
  },
  {
   "cell_type": "code",
   "execution_count": 9,
   "metadata": {},
   "outputs": [
    {
     "name": "stderr",
     "output_type": "stream",
     "text": [
      "{\n",
      "  status: 404,\n",
      "  message: \"Function schema for not_valid_function not found\"\n",
      "}\n",
      "Response Status: 404\n",
      "Response Message: Function schema for not_valid_function not found\n",
      "Response Request ID: fe20c4b1-cce9-451f-bca2-fba04385637b\n"
     ]
    }
   ],
   "source": [
    "import {ResponseError} from \"gigachat/exceptions\"\n",
    "try {\n",
    "    await client.chat({\n",
    "        messages: [{ role: 'user', content: 'Привет, как дела?' }],\n",
    "        functions: [{name: 'not_valid_function'}]\n",
    "    });\n",
    "} catch (exc) {\n",
    "    if (!(exc instanceof ResponseError)) {\n",
    "        throw exc;\n",
    "    } else {\n",
    "        console.error(`Response Status: ${exc.response.status}`);\n",
    "        console.error(`Response Message: ${exc.response.data.message}`);\n",
    "        console.error(`Response Request ID: ${exc.response.headers['x-request-id']}`)\n",
    "    }\n",
    "}"
   ]
  }
 ],
 "metadata": {
  "kernelspec": {
   "display_name": "Deno",
   "language": "typescript",
   "name": "deno"
  },
  "language_info": {
   "codemirror_mode": "typescript",
   "file_extension": ".ts",
   "mimetype": "text/x.typescript",
   "name": "typescript",
   "nbconvert_exporter": "script",
   "pygments_lexer": "typescript",
   "version": "5.7.3"
  }
 },
 "nbformat": 4,
 "nbformat_minor": 2
}
