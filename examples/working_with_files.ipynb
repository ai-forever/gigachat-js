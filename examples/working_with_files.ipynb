{
 "cells": [
  {
   "cell_type": "markdown",
   "metadata": {},
   "source": [
    "# Работа с файлами\n",
    "\n",
    "## Инициализация клиента"
   ]
  },
  {
   "cell_type": "code",
   "execution_count": null,
   "metadata": {},
   "outputs": [],
   "source": [
    "import 'dotenv';\n",
    "import { GigaChat } from 'gigachat';\n",
    "import * as dotenv from 'dotenv';\n",
    "import { Agent } from 'node:https';\n",
    "\n",
    "const httpsAgent = new Agent({\n",
    "  rejectUnauthorized: false,\n",
    "});\n",
    "\n",
    "dotenv.config();\n",
    "const client = new GigaChat({\n",
    "  timeout: 600,\n",
    "  model: 'GigaChat',\n",
    "  httpsAgent: httpsAgent,\n",
    "});"
   ]
  },
  {
   "cell_type": "markdown",
   "metadata": {},
   "source": [
    "## Загрузка файла"
   ]
  },
  {
   "cell_type": "code",
   "execution_count": 2,
   "metadata": {},
   "outputs": [
    {
     "name": "stdout",
     "output_type": "stream",
     "text": [
      "UPDATE TOKEN\n"
     ]
    },
    {
     "data": {
      "text/plain": [
       "{\n",
       "  id: \u001b[32m\"59af540e-321d-434a-8b46-4d5adb3c92ff\"\u001b[39m,\n",
       "  object: \u001b[32m\"file\"\u001b[39m,\n",
       "  bytes: \u001b[33m133107\u001b[39m,\n",
       "  access_policy: \u001b[32m\"private\"\u001b[39m,\n",
       "  created_at: \u001b[33m1742999340\u001b[39m,\n",
       "  filename: \u001b[32m\"cat.jpg\"\u001b[39m,\n",
       "  purpose: \u001b[32m\"general\"\u001b[39m,\n",
       "  xHeaders: {\n",
       "    xRequestID: \u001b[32m\"67c5950a-246b-4522-9d41-d7dfd1e679b5\"\u001b[39m,\n",
       "    xSessionID: \u001b[32m\"c694cf71-a919-4e48-baef-b6c3d728660c\"\u001b[39m,\n",
       "    xClientID: \u001b[90mundefined\u001b[39m\n",
       "  }\n",
       "}"
      ]
     },
     "execution_count": 2,
     "metadata": {},
     "output_type": "execute_result"
    }
   ],
   "source": [
    "import * as path from 'node:path';\n",
    "import fs from 'node:fs';\n",
    "\n",
    "const filePath = path.resolve('./media/cat.jpg');\n",
    "const buffer = fs.readFileSync(filePath);\n",
    "const file = new File([buffer], 'cat.jpg', { type: 'image/jpeg' });\n",
    "const uploadedFile = await client.uploadFile(file);\n",
    "uploadedFile"
   ]
  },
  {
   "cell_type": "markdown",
   "metadata": {},
   "source": [
    "## Просмотр списка с доступными файлами"
   ]
  },
  {
   "cell_type": "code",
   "execution_count": 3,
   "metadata": {},
   "outputs": [
    {
     "data": {
      "text/plain": [
       "\u001b[33m99\u001b[39m"
      ]
     },
     "execution_count": 3,
     "metadata": {},
     "output_type": "execute_result"
    }
   ],
   "source": [
    "const files = await client.getFiles()\n",
    "files.data.length"
   ]
  },
  {
   "cell_type": "code",
   "execution_count": 4,
   "metadata": {},
   "outputs": [
    {
     "data": {
      "text/plain": [
       "{\n",
       "  id: \u001b[32m\"59af540e-321d-434a-8b46-4d5adb3c92ff\"\u001b[39m,\n",
       "  object: \u001b[32m\"file\"\u001b[39m,\n",
       "  bytes: \u001b[33m133107\u001b[39m,\n",
       "  access_policy: \u001b[32m\"private\"\u001b[39m,\n",
       "  created_at: \u001b[33m1742999340\u001b[39m,\n",
       "  filename: \u001b[32m\"cat.jpg\"\u001b[39m,\n",
       "  purpose: \u001b[32m\"general\"\u001b[39m\n",
       "}"
      ]
     },
     "execution_count": 4,
     "metadata": {},
     "output_type": "execute_result"
    }
   ],
   "source": [
    "files.data[0]"
   ]
  },
  {
   "cell_type": "markdown",
   "metadata": {},
   "source": [
    "## Просмотр файла по его ID"
   ]
  },
  {
   "cell_type": "code",
   "execution_count": 5,
   "metadata": {},
   "outputs": [
    {
     "data": {
      "text/plain": [
       "{\n",
       "  id: \u001b[32m\"59af540e-321d-434a-8b46-4d5adb3c92ff\"\u001b[39m,\n",
       "  object: \u001b[32m\"file\"\u001b[39m,\n",
       "  bytes: \u001b[33m133107\u001b[39m,\n",
       "  access_policy: \u001b[32m\"private\"\u001b[39m,\n",
       "  created_at: \u001b[33m1742999340\u001b[39m,\n",
       "  filename: \u001b[32m\"cat.jpg\"\u001b[39m,\n",
       "  purpose: \u001b[32m\"general\"\u001b[39m,\n",
       "  xHeaders: {\n",
       "    xRequestID: \u001b[32m\"dc063c41-d673-457b-bc40-f94efe7297f4\"\u001b[39m,\n",
       "    xSessionID: \u001b[32m\"acf6b896-5d55-415a-a9df-446a74c7cd0f\"\u001b[39m,\n",
       "    xClientID: \u001b[90mundefined\u001b[39m\n",
       "  }\n",
       "}"
      ]
     },
     "execution_count": 5,
     "metadata": {},
     "output_type": "execute_result"
    }
   ],
   "source": [
    "await client.getFile(uploadedFile.id)"
   ]
  },
  {
   "cell_type": "markdown",
   "metadata": {},
   "source": [
    "## Удаление файла"
   ]
  },
  {
   "cell_type": "code",
   "execution_count": 6,
   "metadata": {},
   "outputs": [
    {
     "data": {
      "text/plain": [
       "{\n",
       "  id: \u001b[32m\"59af540e-321d-434a-8b46-4d5adb3c92ff\"\u001b[39m,\n",
       "  object: \u001b[32m\"file\"\u001b[39m,\n",
       "  deleted: \u001b[33mtrue\u001b[39m,\n",
       "  xHeaders: {\n",
       "    xRequestID: \u001b[32m\"9e564242-a4f8-4506-b723-3503d5052b39\"\u001b[39m,\n",
       "    xSessionID: \u001b[32m\"205325a6-d3f2-4be6-b529-ab027cebcab2\"\u001b[39m,\n",
       "    xClientID: \u001b[90mundefined\u001b[39m\n",
       "  }\n",
       "}"
      ]
     },
     "execution_count": 6,
     "metadata": {},
     "output_type": "execute_result"
    }
   ],
   "source": [
    "await client.deleteFile(uploadedFile.id)"
   ]
  }
 ],
 "metadata": {
  "kernelspec": {
   "display_name": "Deno",
   "language": "typescript",
   "name": "deno"
  },
  "language_info": {
   "codemirror_mode": "typescript",
   "file_extension": ".ts",
   "mimetype": "text/x.typescript",
   "name": "typescript",
   "nbconvert_exporter": "script",
   "pygments_lexer": "typescript",
   "version": "5.6.2"
  }
 },
 "nbformat": 4,
 "nbformat_minor": 2
}
